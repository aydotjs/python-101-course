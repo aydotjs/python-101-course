{
 "cells": [
  {
   "cell_type": "code",
   "execution_count": 13,
   "id": "ef35f24a-dbc5-42b4-9ed8-f049dbe89bb3",
   "metadata": {},
   "outputs": [
    {
     "name": "stdout",
     "output_type": "stream",
     "text": [
      "Ciroma Adekunle was born in year 2000 and is a male\n"
     ]
    }
   ],
   "source": [
    "class Person:\n",
    "    def __init__(self, first_name, last_name, age, country, city):\n",
    "        self.country = country\n",
    "        self.city = city\n",
    "        self.skills = []\n",
    "        self.first_name = first_name\n",
    "        self.last_name = last_name\n",
    "        self.age = age\n",
    "        \n",
    "    def info(self):\n",
    "        print(f\"{self.first_name} {self.last_name} is {self.age} years old and lives in {self.country} {self.city}\")\n",
    "    def add_skills(self, *skills):\n",
    "        self.skills.extend(skills)\n",
    "\n",
    "class Student(Person):\n",
    "    def __init__(self, first_name, last_name, age, country, city, gender, birth_year):\n",
    "        self.gender = gender\n",
    "        self.birth_year = birth_year\n",
    "        super().__init__(first_name, last_name, age, country, city)\n",
    "        \n",
    "    def info(self):\n",
    "        print(f\"{self.first_name} {self.last_name} was born in year {self.birth_year} and is a {self.gender}\")\n",
    "        \n",
    "student1 = Student(\"Ciroma\", \"Adekunle\",20, \"Finland\", \"Helsinki\",\"male\", 2000)\n",
    "student1.info()\n",
    "\n"
   ]
  },
  {
   "cell_type": "markdown",
   "id": "9b4a4118-02e5-4dfe-a58c-42c1fbbb3e8f",
   "metadata": {},
   "source": [
    "Methods that can modify class values"
   ]
  },
  {
   "cell_type": "code",
   "execution_count": 5,
   "id": "9a3fba2f-c61a-4310-acb2-900090d36a02",
   "metadata": {},
   "outputs": [
    {
     "name": "stdout",
     "output_type": "stream",
     "text": [
      "Toyota\n"
     ]
    }
   ],
   "source": [
    "class Car:\n",
    "    def __init__(self, make, model, year, engine):\n",
    "        self.__make = make #private attribute\n",
    "        self.__model = model #private attribute\n",
    "        self.__year = year #private attribute\n",
    "        self.engine = engine #public attribute\n",
    "        \n",
    "    def get_make(self):\n",
    "        return self.__make\n",
    "    def get_model(self):\n",
    "        return self.__model\n",
    "    def get_year(self):\n",
    "        return self.__year\n",
    "\n",
    "car1 = Car(\"Toyota\", \"Camry\", 2004, \"V8\")     \n",
    "print(car1.get_make())\n",
    "    "
   ]
  },
  {
   "cell_type": "code",
   "execution_count": 15,
   "id": "cfb04a4c-5040-46fa-9813-188277a6e4ab",
   "metadata": {},
   "outputs": [
    {
     "name": "stdout",
     "output_type": "stream",
     "text": [
      "Current Balance: $ 1000\n",
      "Current Balance: $ 1000\n",
      "Current Balance: $ 1050.0\n",
      "Current Balance: $ 400\n"
     ]
    }
   ],
   "source": [
    "class Account:\n",
    "    def __init__(self, balance=0):\n",
    "        self.balance = balance\n",
    "        \n",
    "    def deposit(self, amount):\n",
    "        self.balance += amount\n",
    "\n",
    "    def withdraw(self, amount):\n",
    "        self.balance -= amount\n",
    "\n",
    "    def get_balance(self):\n",
    "        return self.balance\n",
    "        \n",
    "class SavingsAccount(Account):\n",
    "    def __init__(self, balance=0, interest_rate=0.05):\n",
    "        super().__init__(balance)\n",
    "        self.interest_rate = interest_rate\n",
    "\n",
    "    def add_interest(self):\n",
    "        self.balance += self.balance * self.interest_rate\n",
    "        \n",
    "   \n",
    "class CheckingAccount(Account):\n",
    "    def __init__(self, balance=0, overdraft_fee=35):\n",
    "        super().__init__(balance)\n",
    "        self.overdraft_fee = overdraft_fee\n",
    "\n",
    "    def withdraw(self, amount):\n",
    "        if amount > self.balance:\n",
    "            print(\"Insufficient funds. Overdraft fee will be charged.\")\n",
    "            self.balance -= self.overdraft_fee\n",
    "        else:\n",
    "            self.balance -= amount\n",
    "            \n",
    "def display_balance(account):\n",
    "    print(\"Current Balance: $\", account.get_balance())\n",
    "\n",
    "# Creating instances of different accounts\n",
    "savings_account = SavingsAccount(1000)\n",
    "checking_account = CheckingAccount(1000)\n",
    "\n",
    "# Displaying balances using polymorphism\n",
    "display_balance(savings_account)\n",
    "display_balance(checking_account)\n",
    "\n",
    "# Deposit into savings account and add interest\n",
    "savings_account.add_interest()\n",
    "display_balance(savings_account)\n",
    "\n",
    "# Withdraw from checking account\n",
    "checking_account.withdraw(600)\n",
    "display_balance(checking_account)"
   ]
  },
  {
   "cell_type": "code",
   "execution_count": null,
   "id": "cf89bf38-f36f-4781-afd6-2deab45a3580",
   "metadata": {},
   "outputs": [],
   "source": []
  }
 ],
 "metadata": {
  "kernelspec": {
   "display_name": "Python 3 (ipykernel)",
   "language": "python",
   "name": "python3"
  },
  "language_info": {
   "codemirror_mode": {
    "name": "ipython",
    "version": 3
   },
   "file_extension": ".py",
   "mimetype": "text/x-python",
   "name": "python",
   "nbconvert_exporter": "python",
   "pygments_lexer": "ipython3",
   "version": "3.11.5"
  }
 },
 "nbformat": 4,
 "nbformat_minor": 5
}
