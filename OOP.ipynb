{
 "cells": [
  {
   "cell_type": "code",
   "execution_count": 13,
   "id": "ef35f24a-dbc5-42b4-9ed8-f049dbe89bb3",
   "metadata": {},
   "outputs": [
    {
     "name": "stdout",
     "output_type": "stream",
     "text": [
      "Ciroma Adekunle was born in year 2000 and is a male\n"
     ]
    }
   ],
   "source": [
    "class Person:\n",
    "    def __init__(self, first_name, last_name, age, country, city):\n",
    "        self.country = country\n",
    "        self.city = city\n",
    "        self.skills = []\n",
    "        self.first_name = first_name\n",
    "        self.last_name = last_name\n",
    "        self.age = age\n",
    "        \n",
    "    def info(self):\n",
    "        print(f\"{self.first_name} {self.last_name} is {self.age} years old and lives in {self.country} {self.city}\")\n",
    "    def add_skills(self, *skills):\n",
    "        self.skills.extend(skills)\n",
    "\n",
    "class Student(Person):\n",
    "    def __init__(self, first_name, last_name, age, country, city, gender, birth_year):\n",
    "        self.gender = gender\n",
    "        self.birth_year = birth_year\n",
    "        super().__init__(first_name, last_name, age, country, city)\n",
    "        \n",
    "    def info(self):\n",
    "        print(f\"{self.first_name} {self.last_name} was born in year {self.birth_year} and is a {self.gender}\")\n",
    "        \n",
    "student1 = Student(\"Ciroma\", \"Adekunle\",20, \"Finland\", \"Helsinki\",\"male\", 2000)\n",
    "student1.info()\n",
    "\n"
   ]
  },
  {
   "cell_type": "markdown",
   "id": "9b4a4118-02e5-4dfe-a58c-42c1fbbb3e8f",
   "metadata": {},
   "source": [
    "Methods that can modify class values"
   ]
  },
  {
   "cell_type": "code",
   "execution_count": null,
   "id": "9a3fba2f-c61a-4310-acb2-900090d36a02",
   "metadata": {},
   "outputs": [],
   "source": []
  }
 ],
 "metadata": {
  "kernelspec": {
   "display_name": "Python 3 (ipykernel)",
   "language": "python",
   "name": "python3"
  },
  "language_info": {
   "codemirror_mode": {
    "name": "ipython",
    "version": 3
   },
   "file_extension": ".py",
   "mimetype": "text/x-python",
   "name": "python",
   "nbconvert_exporter": "python",
   "pygments_lexer": "ipython3",
   "version": "3.11.5"
  }
 },
 "nbformat": 4,
 "nbformat_minor": 5
}
