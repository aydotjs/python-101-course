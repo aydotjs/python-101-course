{
 "cells": [
  {
   "cell_type": "code",
   "execution_count": 5,
   "id": "6ae55e0f-54d2-4e63-8b02-86d2c0f2def9",
   "metadata": {},
   "outputs": [],
   "source": [
    "import import_ipynb\n",
    "import module_1"
   ]
  },
  {
   "cell_type": "code",
   "execution_count": null,
   "id": "4c65499d-6651-4ff8-83f0-01df76fa312c",
   "metadata": {},
   "outputs": [],
   "source": []
  }
 ],
 "metadata": {
  "kernelspec": {
   "display_name": "Python 3 (ipykernel)",
   "language": "python",
   "name": "python3"
  },
  "language_info": {
   "codemirror_mode": {
    "name": "ipython",
    "version": 3
   },
   "file_extension": ".py",
   "mimetype": "text/x-python",
   "name": "python",
   "nbconvert_exporter": "python",
   "pygments_lexer": "ipython3",
   "version": "3.11.5"
  }
 },
 "nbformat": 4,
 "nbformat_minor": 5
}
