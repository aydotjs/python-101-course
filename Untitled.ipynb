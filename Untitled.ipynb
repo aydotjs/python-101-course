{
 "cells": [
  {
   "cell_type": "code",
   "execution_count": 38,
   "id": "d5ad7624-3896-44a6-9d06-cea43e32e2a7",
   "metadata": {},
   "outputs": [
    {
     "name": "stdout",
     "output_type": "stream",
     "text": [
      "importing Jupyter notebook from module_1.ipynb\n"
     ]
    },
    {
     "data": {
      "text/plain": [
       "<module 'module_1' from 'module_1.ipynb'>"
      ]
     },
     "execution_count": 38,
     "metadata": {},
     "output_type": "execute_result"
    }
   ],
   "source": [
    "import importlib\n",
    "import import_ipynb\n",
    "import module_1\n",
    "import module_2\n",
    "importlib.reload(module_1)"
   ]
  },
  {
   "cell_type": "code",
   "execution_count": 39,
   "id": "77af8c9f-48ef-4acb-bc94-72d2ee613abb",
   "metadata": {},
   "outputs": [
    {
     "name": "stdout",
     "output_type": "stream",
     "text": [
      "['__doc__', '__file__', '__loader__', '__name__', '__package__', '__spec__', 'get_ipython']\n"
     ]
    }
   ],
   "source": [
    "print(dir(module_2))"
   ]
  },
  {
   "cell_type": "code",
   "execution_count": 36,
   "id": "c7ce06a3-d076-4fc1-a883-b8303d92a949",
   "metadata": {},
   "outputs": [
    {
     "ename": "AttributeError",
     "evalue": "module 'module_2' has no attribute 'say_hello'",
     "output_type": "error",
     "traceback": [
      "\u001b[1;31m---------------------------------------------------------------------------\u001b[0m",
      "\u001b[1;31mAttributeError\u001b[0m                            Traceback (most recent call last)",
      "Cell \u001b[1;32mIn[36], line 1\u001b[0m\n\u001b[1;32m----> 1\u001b[0m module_2\u001b[38;5;241m.\u001b[39msay_hello()\n",
      "\u001b[1;31mAttributeError\u001b[0m: module 'module_2' has no attribute 'say_hello'"
     ]
    }
   ],
   "source": [
    "module_2.say_hello()"
   ]
  },
  {
   "cell_type": "code",
   "execution_count": null,
   "id": "b2e248b6-8e7b-49ee-a3b3-540cc25c6f19",
   "metadata": {},
   "outputs": [],
   "source": []
  }
 ],
 "metadata": {
  "kernelspec": {
   "display_name": "Python 3 (ipykernel)",
   "language": "python",
   "name": "python3"
  },
  "language_info": {
   "codemirror_mode": {
    "name": "ipython",
    "version": 3
   },
   "file_extension": ".py",
   "mimetype": "text/x-python",
   "name": "python",
   "nbconvert_exporter": "python",
   "pygments_lexer": "ipython3",
   "version": "3.11.5"
  }
 },
 "nbformat": 4,
 "nbformat_minor": 5
}
