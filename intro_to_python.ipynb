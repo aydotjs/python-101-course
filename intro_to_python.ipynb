{
 "cells": [
  {
   "cell_type": "markdown",
   "id": "cc05e57d-6b98-4533-a8f2-875fd5c25912",
   "metadata": {},
   "source": [
    "## Introduction to data types and variables"
   ]
  },
  {
   "cell_type": "code",
   "execution_count": 4,
   "id": "67e77a92-db69-47e6-a957-34ec8a815469",
   "metadata": {},
   "outputs": [
    {
     "name": "stdout",
     "output_type": "stream",
     "text": [
      "<class 'str'>\n"
     ]
    }
   ],
   "source": [
    "print(type ('2.5'))"
   ]
  },
  {
   "cell_type": "code",
   "execution_count": 5,
   "id": "0c694724-795e-460d-8b2a-848e9f71908a",
   "metadata": {},
   "outputs": [],
   "source": [
    "high_score = 150"
   ]
  },
  {
   "cell_type": "code",
   "execution_count": 6,
   "id": "8b03ae5b-389a-42cc-a0e1-db66a492ae82",
   "metadata": {},
   "outputs": [
    {
     "ename": "SyntaxError",
     "evalue": "invalid syntax (2644998005.py, line 1)",
     "output_type": "error",
     "traceback": [
      "\u001b[1;36m  Cell \u001b[1;32mIn[6], line 1\u001b[1;36m\u001b[0m\n\u001b[1;33m    if = 20\u001b[0m\n\u001b[1;37m       ^\u001b[0m\n\u001b[1;31mSyntaxError\u001b[0m\u001b[1;31m:\u001b[0m invalid syntax\n"
     ]
    }
   ],
   "source": [
    "if = 20"
   ]
  },
  {
   "cell_type": "code",
   "execution_count": 7,
   "id": "ba1df8b2-8160-4500-82d3-c0703e59c06a",
   "metadata": {},
   "outputs": [],
   "source": [
    "first_Name = \"Ayobami\""
   ]
  },
  {
   "cell_type": "code",
   "execution_count": 9,
   "id": "a9e05b37-3cb4-42a5-a0f9-2674eede7239",
   "metadata": {},
   "outputs": [
    {
     "name": "stdout",
     "output_type": "stream",
     "text": [
      "Ayobami\n"
     ]
    }
   ],
   "source": [
    "print(first_Name)"
   ]
  },
  {
   "cell_type": "code",
   "execution_count": 10,
   "id": "0bb5c36f-662c-4dc2-9aaa-e83266f53198",
   "metadata": {},
   "outputs": [],
   "source": [
    "transactions = +100, -200, 500"
   ]
  },
  {
   "cell_type": "code",
   "execution_count": 11,
   "id": "7e3831e9-3e16-46a6-ac98-5ab522c0d581",
   "metadata": {},
   "outputs": [
    {
     "name": "stdout",
     "output_type": "stream",
     "text": [
      "(100, -200, 500)\n"
     ]
    }
   ],
   "source": [
    "print(transactions)"
   ]
  },
  {
   "cell_type": "code",
   "execution_count": 12,
   "id": "0316d0ff-8ff3-4de3-9a16-f92bea69fcd1",
   "metadata": {},
   "outputs": [
    {
     "name": "stdout",
     "output_type": "stream",
     "text": [
      "<class 'tuple'>\n"
     ]
    }
   ],
   "source": [
    "print(type (transactions))"
   ]
  },
  {
   "cell_type": "code",
   "execution_count": 14,
   "id": "166b4b62-32df-4ed6-941a-8629d6526eeb",
   "metadata": {},
   "outputs": [
    {
     "name": "stdout",
     "output_type": "stream",
     "text": [
      "<class 'str'>\n"
     ]
    }
   ],
   "source": [
    "print(type(first_Name))"
   ]
  },
  {
   "cell_type": "code",
   "execution_count": 15,
   "id": "98a1fe49-49ec-4b7a-b494-6ed748707a39",
   "metadata": {},
   "outputs": [
    {
     "ename": "SyntaxError",
     "evalue": "expected '(' (4017486371.py, line 1)",
     "output_type": "error",
     "traceback": [
      "\u001b[1;36m  Cell \u001b[1;32mIn[15], line 1\u001b[1;36m\u001b[0m\n\u001b[1;33m    def say_hello:\u001b[0m\n\u001b[1;37m                 ^\u001b[0m\n\u001b[1;31mSyntaxError\u001b[0m\u001b[1;31m:\u001b[0m expected '('\n"
     ]
    }
   ],
   "source": [
    "def say_hello:\n",
    "    "
   ]
  },
  {
   "cell_type": "markdown",
   "id": "bab64780-68d0-4ae7-a2ff-66c4b1876973",
   "metadata": {},
   "source": []
  },
  {
   "cell_type": "markdown",
   "id": "c51d5dfc-1570-49be-b547-eefd891f3a15",
   "metadata": {},
   "source": [
    "## Data Structures"
   ]
  },
  {
   "cell_type": "code",
   "execution_count": 10,
   "id": "776ea055-8b91-4191-8de5-3dcc3d3f4075",
   "metadata": {},
   "outputs": [
    {
     "name": "stdout",
     "output_type": "stream",
     "text": [
      "['Dumebi', 'Ciroma', 'Adekunle']\n",
      "['Dumebi', 'Ciroma', 'Adekunle', 'Kate', 'Ciroma']\n"
     ]
    }
   ],
   "source": [
    "#List\n",
    "friends = [\"Dumebi\", \"Ciroma\", \"Adekunle\"]\n",
    "#print(friends[1])\n",
    "print(friends)\n",
    "friends.append(\"Kate\")\n",
    "friends.append(\"Ciroma\")\n",
    "print(friends)\n",
    "#ordered\n",
    "#mutable"
   ]
  },
  {
   "cell_type": "code",
   "execution_count": 12,
   "id": "45d83d1c-2423-430f-ba43-79fa86085aca",
   "metadata": {},
   "outputs": [
    {
     "name": "stdout",
     "output_type": "stream",
     "text": [
      "5\n",
      "['Dumebi', 'Ciroma', 'Adekunle', 'Kate']\n"
     ]
    }
   ],
   "source": [
    "#propeties and method of list\n",
    "print(len(friends))\n",
    "friends.pop()\n",
    "print(friends)"
   ]
  },
  {
   "cell_type": "code",
   "execution_count": 13,
   "id": "1456789b-c94c-4a36-b05e-b6d8e244f596",
   "metadata": {},
   "outputs": [
    {
     "name": "stdout",
     "output_type": "stream",
     "text": [
      "Helloo\n"
     ]
    }
   ],
   "source": [
    "def append():\n",
    "    print(\"Helloo\")\n",
    "append()"
   ]
  },
  {
   "cell_type": "code",
   "execution_count": 14,
   "id": "c6e3e9a3-c92f-43d0-9fc1-73454f65c4a8",
   "metadata": {},
   "outputs": [
    {
     "name": "stdout",
     "output_type": "stream",
     "text": [
      "<class 'list'>\n"
     ]
    }
   ],
   "source": [
    "print(type(friends))"
   ]
  },
  {
   "cell_type": "code",
   "execution_count": 20,
   "id": "052e4af2-3088-4bfa-9850-106bf0286bc7",
   "metadata": {},
   "outputs": [
    {
     "name": "stdout",
     "output_type": "stream",
     "text": [
      "Hello Ayo\n"
     ]
    }
   ],
   "source": [
    "def greeter(whatever):\n",
    "    print(\"Hello \" + whatever)\n",
    "greeter(\"Ayo\")"
   ]
  },
  {
   "cell_type": "code",
   "execution_count": null,
   "id": "6f2727c1-9fc9-4b99-a31e-325f7ed86dc0",
   "metadata": {},
   "outputs": [],
   "source": []
  }
 ],
 "metadata": {
  "kernelspec": {
   "display_name": "Python 3 (ipykernel)",
   "language": "python",
   "name": "python3"
  },
  "language_info": {
   "codemirror_mode": {
    "name": "ipython",
    "version": 3
   },
   "file_extension": ".py",
   "mimetype": "text/x-python",
   "name": "python",
   "nbconvert_exporter": "python",
   "pygments_lexer": "ipython3",
   "version": "3.11.5"
  }
 },
 "nbformat": 4,
 "nbformat_minor": 5
}
