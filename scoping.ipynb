{
 "cells": [
  {
   "cell_type": "code",
   "execution_count": 13,
   "id": "f5cace4e-2365-4244-a163-e74bc295923f",
   "metadata": {},
   "outputs": [
    {
     "name": "stdout",
     "output_type": "stream",
     "text": [
      "1000\n",
      "1005\n"
     ]
    }
   ],
   "source": [
    "a = 100\n",
    "b = 500\n",
    "\n",
    "def parent() :\n",
    "    b = 1000\n",
    "    dollar = 1000\n",
    "    def sum ():\n",
    "        a = 5\n",
    "        sum = a + b\n",
    "        print(dollar)\n",
    "        return sum\n",
    "    print(sum())\n",
    "parent()"
   ]
  },
  {
   "cell_type": "code",
   "execution_count": null,
   "id": "f136d32e-a53c-46e6-a9f3-af3bf9b69185",
   "metadata": {},
   "outputs": [],
   "source": []
  }
 ],
 "metadata": {
  "kernelspec": {
   "display_name": "Python 3 (ipykernel)",
   "language": "python",
   "name": "python3"
  },
  "language_info": {
   "codemirror_mode": {
    "name": "ipython",
    "version": 3
   },
   "file_extension": ".py",
   "mimetype": "text/x-python",
   "name": "python",
   "nbconvert_exporter": "python",
   "pygments_lexer": "ipython3",
   "version": "3.11.5"
  }
 },
 "nbformat": 4,
 "nbformat_minor": 5
}
