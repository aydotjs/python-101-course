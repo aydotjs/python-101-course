{
 "cells": [
  {
   "cell_type": "code",
   "execution_count": 1,
   "id": "5d6bf39d-5c7f-4615-90a1-39044b4a163e",
   "metadata": {},
   "outputs": [
    {
     "ename": "ModuleNotFoundError",
     "evalue": "No module named 'data_structures'",
     "output_type": "error",
     "traceback": [
      "\u001b[1;31m---------------------------------------------------------------------------\u001b[0m",
      "\u001b[1;31mModuleNotFoundError\u001b[0m                       Traceback (most recent call last)",
      "Cell \u001b[1;32mIn[1], line 1\u001b[0m\n\u001b[1;32m----> 1\u001b[0m \u001b[38;5;28;01mimport\u001b[39;00m \u001b[38;5;21;01mdata_structures\u001b[39;00m\n",
      "\u001b[1;31mModuleNotFoundError\u001b[0m: No module named 'data_structures'"
     ]
    }
   ],
   "source": []
  },
  {
   "cell_type": "code",
   "execution_count": 5,
   "id": "320187d6-59a5-4139-88ac-0371f9195bf8",
   "metadata": {},
   "outputs": [
    {
     "name": "stdin",
     "output_type": "stream",
     "text": [
      "What is your age 20\n"
     ]
    },
    {
     "name": "stdout",
     "output_type": "stream",
     "text": [
      "Come have your license\n"
     ]
    }
   ],
   "source": [
    "age = int(input(\"What is your age\"))\n",
    "if age >= 18:\n",
    "    print(\"Come have your license\")\n",
    "else: \n",
    "    print(f\"Check back in {18-age} years\")"
   ]
  },
  {
   "cell_type": "code",
   "execution_count": null,
   "id": "fef569e1-7656-4405-956c-bdad0a05d46c",
   "metadata": {},
   "outputs": [],
   "source": [
    "print(file"
   ]
  }
 ],
 "metadata": {
  "kernelspec": {
   "display_name": "Python 3 (ipykernel)",
   "language": "python",
   "name": "python3"
  },
  "language_info": {
   "codemirror_mode": {
    "name": "ipython",
    "version": 3
   },
   "file_extension": ".py",
   "mimetype": "text/x-python",
   "name": "python",
   "nbconvert_exporter": "python",
   "pygments_lexer": "ipython3",
   "version": "3.11.5"
  }
 },
 "nbformat": 4,
 "nbformat_minor": 5
}
