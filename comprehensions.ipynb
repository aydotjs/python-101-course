{
 "cells": [
  {
   "cell_type": "code",
   "execution_count": 2,
   "id": "c95c0240-45ab-4027-a8d5-db3c3d7edecd",
   "metadata": {},
   "outputs": [
    {
     "name": "stdout",
     "output_type": "stream",
     "text": [
      "[480000, 640000, 960000]\n"
     ]
    }
   ],
   "source": [
    "# Traditional way\n",
    "transactions_in_dollars = [300,400,600]\n",
    "exchange_rate = 1600\n",
    "transactions_in_naira = []\n",
    "for dollars in transactions_in_dollars:\n",
    "    transactions_in_naira.append(dollars*exchange_rate)\n",
    "print(transactions_in_naira)"
   ]
  },
  {
   "cell_type": "code",
   "execution_count": 6,
   "id": "8adf9f60-26e4-4c6f-800c-b7688200c825",
   "metadata": {},
   "outputs": [
    {
     "name": "stdout",
     "output_type": "stream",
     "text": [
      "[480000, 640000, 960000, 800000]\n"
     ]
    }
   ],
   "source": [
    "# list comprehension\n",
    "transactions_in_dollars = [300,400,600, -200, 500]\n",
    "exchange_rate = 1600\n",
    "transactions_in_naira = [dollar * exchange_rate for dollar in transactions_in_dollars if dollar > 0]\n",
    "print(transactions_in_naira)"
   ]
  },
  {
   "cell_type": "code",
   "execution_count": 21,
   "id": "0ba66511-a049-40b4-b9fb-3733b3dc0848",
   "metadata": {},
   "outputs": [
    {
     "name": "stdout",
     "output_type": "stream",
     "text": [
      "{'txn_1': 'Success', 'txn_2': 'Success', 'txn_3': 'Fail', 'txn_4': 'Success', 'txn_5': 'Success', 'txn_6': 'Fail'}\n"
     ]
    }
   ],
   "source": [
    "transaction_dict ={\n",
    "    \"txn_1\" : 100,\n",
    "    \"txn_2\" : 300,\n",
    "    \"txn_3\" : 50,\n",
    "    \"txn_4\" : 200,\n",
    "}\n",
    "transaction_dict[\"txn_5\"] = 400\n",
    "transaction_dict[\"txn_6\"] = 30\n",
    "\n",
    "transaction_status = {}\n",
    "for transaction_id, amount in transaction_dict.items():\n",
    "    if amount >= 100:\n",
    "        status =\"Success\"\n",
    "    else:\n",
    "        status = \"Fail\"\n",
    "    transaction_status[transaction_id] = status\n",
    "print(transaction_status)\n",
    "    "
   ]
  },
  {
   "cell_type": "code",
   "execution_count": 24,
   "id": "a4d138d7-01f9-441c-b404-7da805ec56d7",
   "metadata": {},
   "outputs": [
    {
     "ename": "SyntaxError",
     "evalue": "invalid syntax. Maybe you meant '==' or ':=' instead of '='? (1870803302.py, line 12)",
     "output_type": "error",
     "traceback": [
      "\u001b[1;36m  Cell \u001b[1;32mIn[24], line 12\u001b[1;36m\u001b[0m\n\u001b[1;33m    transaction_status = {transaction_id = \"Success\" if amount>=100 else \"Failure\" for transaction_id, amount in transaction_dict.items()}\u001b[0m\n\u001b[1;37m                          ^\u001b[0m\n\u001b[1;31mSyntaxError\u001b[0m\u001b[1;31m:\u001b[0m invalid syntax. Maybe you meant '==' or ':=' instead of '='?\n"
     ]
    }
   ],
   "source": [
    "transaction_dict ={\n",
    "    \"txn_1\" : 100,\n",
    "    \"txn_2\" : 300,\n",
    "    \"txn_3\" : 50,\n",
    "    \"txn_4\" : 200,\n",
    "}\n",
    "\n",
    "# transaction_status = {key_expression : value_expression for item in iterable}\n",
    "# transaction_status = {transaction_id, status for transaction_id, amount in transaction_dict.items() if amount>= 100 status = \"Success\" else status = \"Fail\"}\n",
    "# print(transaction_status)\n",
    "\n",
    "transaction_status = {transaction_id = \"Success\" if amount>=100 else \"Failure\" for transaction_id, amount in transaction_dict.items()}\n",
    "print(transaction_status)"
   ]
  },
  {
   "cell_type": "code",
   "execution_count": null,
   "id": "d32f3615-8450-41b8-8811-dabee832bc21",
   "metadata": {},
   "outputs": [],
   "source": []
  }
 ],
 "metadata": {
  "kernelspec": {
   "display_name": "Python 3 (ipykernel)",
   "language": "python",
   "name": "python3"
  },
  "language_info": {
   "codemirror_mode": {
    "name": "ipython",
    "version": 3
   },
   "file_extension": ".py",
   "mimetype": "text/x-python",
   "name": "python",
   "nbconvert_exporter": "python",
   "pygments_lexer": "ipython3",
   "version": "3.11.5"
  }
 },
 "nbformat": 4,
 "nbformat_minor": 5
}
