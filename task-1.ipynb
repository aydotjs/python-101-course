{
 "cells": [
  {
   "cell_type": "code",
   "execution_count": 1,
   "id": "47362d1a-b180-47cb-b680-4ce68df0b9f5",
   "metadata": {},
   "outputs": [
    {
     "name": "stdout",
     "output_type": "stream",
     "text": [
      "Word count: 99\n",
      "Average word length: 5.16 characters\n",
      "Most frequent word: 'the' (occurs 14 times)\n"
     ]
    }
   ],
   "source": [
    "import string\n",
    "from collections import Counter\n",
    "\n",
    "def analyze_text(file_path):\n",
    "    try:\n",
    "        # Read the text file\n",
    "        with open(file_path, 'r', encoding='utf-8') as file:\n",
    "            text = file.read()\n",
    "        \n",
    "        # Remove punctuation and convert to lowercase\n",
    "        translator = str.maketrans('', '', string.punctuation)\n",
    "        cleaned_text = text.translate(translator).lower()\n",
    "\n",
    "        # Tokenize the text into words\n",
    "        words = cleaned_text.split()\n",
    "\n",
    "        # Word count\n",
    "        word_count = len(words)\n",
    "\n",
    "        # Average word length\n",
    "        average_word_length = sum(len(word) for word in words) / word_count\n",
    "\n",
    "        # Most frequent word\n",
    "        word_frequency = Counter(words)\n",
    "        most_frequent_word, frequency = word_frequency.most_common(1)[0]\n",
    "\n",
    "        # Display the results\n",
    "        print(f\"Word count: {word_count}\")\n",
    "        print(f\"Average word length: {average_word_length:.2f} characters\")\n",
    "        print(f\"Most frequent word: '{most_frequent_word}' (occurs {frequency} times)\")\n",
    "\n",
    "    except FileNotFoundError:\n",
    "        print(\"Error: File not found.\")\n",
    "    except Exception as e:\n",
    "        print(f\"An error occurred: {e}\")\n",
    "\n",
    "# Example usage\n",
    "file_path = 'sample_text.txt'  # Replace with the path to your text file\n",
    "analyze_text(file_path)\n"
   ]
  },
  {
   "cell_type": "code",
   "execution_count": null,
   "id": "dd25e210-73e5-4bdd-8ab4-7e16a1c56c27",
   "metadata": {},
   "outputs": [],
   "source": []
  }
 ],
 "metadata": {
  "kernelspec": {
   "display_name": "Python 3 (ipykernel)",
   "language": "python",
   "name": "python3"
  },
  "language_info": {
   "codemirror_mode": {
    "name": "ipython",
    "version": 3
   },
   "file_extension": ".py",
   "mimetype": "text/x-python",
   "name": "python",
   "nbconvert_exporter": "python",
   "pygments_lexer": "ipython3",
   "version": "3.11.5"
  }
 },
 "nbformat": 4,
 "nbformat_minor": 5
}
