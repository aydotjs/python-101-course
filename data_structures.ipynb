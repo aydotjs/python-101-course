{
 "cells": [
  {
   "cell_type": "markdown",
   "id": "7e7028d1-8e9c-4b94-bb28-bf37a50272bd",
   "metadata": {},
   "source": [
    "## Introduction to Data Strucures"
   ]
  },
  {
   "cell_type": "code",
   "execution_count": 1,
   "id": "44188cd4-8443-40fc-9297-65391d60a597",
   "metadata": {},
   "outputs": [
    {
     "name": "stdout",
     "output_type": "stream",
     "text": [
      "1\n",
      "True\n"
     ]
    }
   ],
   "source": [
    "my_list = [1, 'apple', 3.14, True]\n",
    "\n",
    "# Accessing values\n",
    "print(my_list[0])      # Output: 1\n",
    "print(my_list[-1])     # Output: True\n"
   ]
  },
  {
   "cell_type": "code",
   "execution_count": 2,
   "id": "63ac03ae-1796-4e75-ac04-d40d5c337175",
   "metadata": {},
   "outputs": [],
   "source": [
    "my_list.append(\"banana\")"
   ]
  },
  {
   "cell_type": "code",
   "execution_count": 3,
   "id": "2a8a3889-21e9-4019-b95b-ed69ae7844b2",
   "metadata": {},
   "outputs": [
    {
     "data": {
      "text/plain": [
       "[1, 'apple', 3.14, True, 'banana']"
      ]
     },
     "execution_count": 3,
     "metadata": {},
     "output_type": "execute_result"
    }
   ],
   "source": [
    "my_list"
   ]
  },
  {
   "cell_type": "code",
   "execution_count": 4,
   "id": "5d9889d3-c279-4ab1-8e05-ded7867eeaf8",
   "metadata": {},
   "outputs": [
    {
     "name": "stdout",
     "output_type": "stream",
     "text": [
      "banana\n"
     ]
    }
   ],
   "source": [
    "my_tuple = (1, 'banana', 2.71, False)\n",
    "\n",
    "# Accessing values\n",
    "print(my_tuple[1])      # Output: 'banana'\n"
   ]
  },
  {
   "cell_type": "code",
   "execution_count": 5,
   "id": "7d1e695a-ae74-460a-950a-d4714450a48a",
   "metadata": {},
   "outputs": [
    {
     "name": "stdout",
     "output_type": "stream",
     "text": [
      "(1, 'banana', 2.71, False, 4, 'grape')\n"
     ]
    }
   ],
   "source": [
    "new_tuple = my_tuple + (4, 'grape')\n",
    "print(new_tuple)  # Output: (1, 'banana', 2.71, False, 4, 'grape')\n"
   ]
  },
  {
   "cell_type": "code",
   "execution_count": 6,
   "id": "dd531bf0-e2eb-49f2-a6cc-4b0e1f115c6e",
   "metadata": {},
   "outputs": [
    {
     "name": "stdout",
     "output_type": "stream",
     "text": [
      "True\n"
     ]
    }
   ],
   "source": [
    "my_set = {1, 'orange', 3.14, True}\n",
    "\n",
    "# Checking membership\n",
    "print('orange' in my_set)  # Output: True\n"
   ]
  },
  {
   "cell_type": "code",
   "execution_count": null,
   "id": "c13d7546-4410-4910-990e-ccaa1171b020",
   "metadata": {},
   "outputs": [],
   "source": []
  }
 ],
 "metadata": {
  "kernelspec": {
   "display_name": "Python 3 (ipykernel)",
   "language": "python",
   "name": "python3"
  },
  "language_info": {
   "codemirror_mode": {
    "name": "ipython",
    "version": 3
   },
   "file_extension": ".py",
   "mimetype": "text/x-python",
   "name": "python",
   "nbconvert_exporter": "python",
   "pygments_lexer": "ipython3",
   "version": "3.11.5"
  }
 },
 "nbformat": 4,
 "nbformat_minor": 5
}
