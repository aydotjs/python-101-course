{
 "cells": [
  {
   "cell_type": "markdown",
   "id": "1c9b5169-6509-4da0-b083-1f020bcc9677",
   "metadata": {},
   "source": [
    "# Introduction to data types"
   ]
  },
  {
   "cell_type": "code",
   "execution_count": 7,
   "id": "fcaa9f43-0084-4339-ad26-dc2fcd4866f6",
   "metadata": {},
   "outputs": [
    {
     "name": "stdout",
     "output_type": "stream",
     "text": [
      "1200\n"
     ]
    }
   ],
   "source": [
    "def get_area():\n",
    "    L = 30\n",
    "    H = 40\n",
    "    Area = L * H\n",
    "    print(Area)\n",
    "\n",
    "get_area()"
   ]
  },
  {
   "cell_type": "markdown",
   "id": "b3bab84b-a5c5-47e8-87ac-7dab99581558",
   "metadata": {},
   "source": [
    "## Round and Display:\n",
    "Write a Python program that takes a floating-point number as input, rounds it to the nearest integer \n",
    "using the round function, and then displays the result."
   ]
  },
  {
   "cell_type": "code",
   "execution_count": 1,
   "id": "46ada4f2-d650-4fb4-acd0-4bb9673b032d",
   "metadata": {},
   "outputs": [
    {
     "name": "stdout",
     "output_type": "stream",
     "text": [
      "5\n"
     ]
    }
   ],
   "source": [
    "floating_int = round(5.333) #this program is not taking anythin as an input, you create a variable that you will be storing the inputed number in\n",
    "#float(input (\"Enter number\")\n",
    "print(floating_int) "
   ]
  },
  {
   "cell_type": "markdown",
   "id": "fd465a2f-20ac-415d-a0f0-4d626912ed4b",
   "metadata": {},
   "source": [
    "## Temperature Conversion:\n",
    "Create a program that converts a temperature in Celsius to Fahrenheit. Write a function \n",
    "celsius_to_fahrenheit that takes a temperature in Celsius as a parameter, converts it to Fahrenheit using \n",
    "the formula (Celsius * 9/5) + 32, and returns the result."
   ]
  },
  {
   "cell_type": "code",
   "execution_count": 2,
   "id": "9eca597e-d552-486e-ba57-f63c8546d398",
   "metadata": {},
   "outputs": [],
   "source": [
    "def celsius_to_fahrenheit(temperature_in_celsius):\n",
    "    return (temperature_in_celsius * 9/5) +  32\n",
    "temperature_in_celsius = float(input(\"Enter Temperature in Celsius : \"))# This is how we are going to be receiving the temeperature in celsius\n",
    "temeperature_in_fahrenheit = celsius_to_fahrenheit(temperature_in_celsius)\n",
    "    "
   ]
  },
  {
   "cell_type": "markdown",
   "id": "60d26bc1-5b2f-4b35-b171-d12445cf344a",
   "metadata": {},
   "source": [
    "This must be the solution to the average of three numbes challenge, but the code is not working beccause you did not call the prompt_userfunction"
   ]
  },
  {
   "cell_type": "code",
   "execution_count": 18,
   "id": "796ab3d1-8ba9-48e8-bc95-5ebc40e0939d",
   "metadata": {},
   "outputs": [],
   "source": [
    "def calculate_average(first_num, second_num, third_num):\n",
    "    average = (first_num, second_num, third_num)/2\n",
    "    return average\n",
    "\n",
    "def prompt_user():\n",
    "    first_num = float(input(\"Enter the first number\"))\n",
    "    second_num = float(iput(\"Enter the second number\"))\n",
    "    third_num = float(input(\"Enter the third number\"))\n",
    "\n",
    "prompt_user\n",
    "    \n",
    "\n",
    "    \n",
    "    \n"
   ]
  },
  {
   "cell_type": "markdown",
   "id": "aa3d4102-51a8-4e27-80d6-8ebb8a307dc3",
   "metadata": {},
   "source": [
    "## Average of Three Numbers:\r\n",
    "Write a function calculate_average that takes three numbers as parameters and returns the average of \r\n",
    "those numbers. The program should then prompt the user to enter three numbers, call the function, and \r\n",
    "print the average."
   ]
  },
  {
   "cell_type": "code",
   "execution_count": 16,
   "id": "93231aa1-6fa4-4b86-a314-d1ba1540db8f",
   "metadata": {},
   "outputs": [
    {
     "name": "stdout",
     "output_type": "stream",
     "text": [
      "8\n"
     ]
    }
   ],
   "source": [
    "#Also, this function is supposed to take in three parameters, but its taking two parameters which is number1, and number2\n",
    "def sum_number(number1, number2): #the function name should calculate_average not sum_number  \n",
    "    #the program should prompt user to enter three 3 numbers\n",
    "num1=float(\"Input first number : \")#the float s converting anything we input into a float\n",
    "num2=float(\"Input second number : \")\n",
    "num3=float(\"Input third number : \")\n",
    "    #Adapt this code to solve  this challenge\n",
    "    sum = number1 + number2\n",
    "    print(sum)\n",
    "sum_number(3, 5)#This func\n"
   ]
  },
  {
   "cell_type": "markdown",
   "id": "d518228f-35ea-4111-9f29-29ad3a482ea9",
   "metadata": {},
   "source": [
    "## Data Type Check\n",
    "Write a program that checks the data type of a given variable. Define a function check_data_type that \r\n",
    "takes a variable as a parameter and prints its data type. The program should then prompt the user to \r\n",
    "enter a variable and call the function to check its data type"
   ]
  },
  {
   "cell_type": "code",
   "execution_count": 14,
   "id": "0b4f1b51-373d-42a4-933b-295c6ee5b4a7",
   "metadata": {},
   "outputs": [
    {
     "name": "stdin",
     "output_type": "stream",
     "text": [
      "Enter a Varaible 199\n"
     ]
    },
    {
     "name": "stdout",
     "output_type": "stream",
     "text": [
      "<class 'int'>\n"
     ]
    }
   ],
   "source": [
    "prompt_user = eval(input(\"Enter a Varaible\"))\n",
    "def check_data_type(variable):\n",
    "   # print(type(variable))` this back tick here is causing this code not to be executed\n",
    "    data_type = type(prompt_user)\n",
    "    print(data_type)\n",
    "#prompt_user = input(\"Enter a variable\")\n",
    "\n",
    "check_data_type(prompt_user)"
   ]
  },
  {
   "cell_type": "markdown",
   "id": "6833da02-f0e1-456b-ad04-9ff6296d2cec",
   "metadata": {},
   "source": [
    "## Circle Area\n",
    "Create a program that calculates the area of a circle. Define a function calculate_circle_area that takes the radius as a parameter and returns the area using the formula area = pi * radius^2. You can use the value of pi as 3.14.\n"
   ]
  },
  {
   "cell_type": "code",
   "execution_count": 3,
   "id": "9b28b9cd-b23d-4ac6-81f5-7828820bbee2",
   "metadata": {},
   "outputs": [
    {
     "data": {
      "text/plain": [
       "78.5"
      ]
     },
     "execution_count": 3,
     "metadata": {},
     "output_type": "execute_result"
    }
   ],
   "source": [
    "def calculate_circle_area(radius):\n",
    "    pi = 3.14\n",
    "    area = pi * radius**2\n",
    "    return area\n",
    "    print(area)\n",
    "    \n",
    "calculate_circle_area(5)"
   ]
  },
  {
   "cell_type": "code",
   "execution_count": 1,
   "id": "529338fb-e6ea-4d35-87ba-aa883920df85",
   "metadata": {},
   "outputs": [
    {
     "name": "stdout",
     "output_type": "stream",
     "text": [
      "correction\n"
     ]
    }
   ],
   "source": [
    "print(\"correction\")"
   ]
  },
  {
   "cell_type": "code",
   "execution_count": 1,
   "id": "f056c69b-8312-434b-b8cf-96e3de89e649",
   "metadata": {},
   "outputs": [
    {
     "name": "stdout",
     "output_type": "stream",
     "text": [
      "back to the matter open and close touch your toes baby oya yodi\n"
     ]
    }
   ],
   "source": [
    "# Specify the file path\n",
    "file_path = 'lol.txt'\n",
    "\n",
    "# Open the file in read mode ('r')\n",
    "with open(file_path, 'r') as file:\n",
    "    # Read the contents of the file\n",
    "    file_contents = file.read()\n",
    "\n",
    "# Now, 'file_contents' contains the content of the file\n",
    "print(file_contents)\n"
   ]
  },
  {
   "cell_type": "code",
   "execution_count": null,
   "id": "303bd29f-9d1b-4559-8bc0-eccdb0552d8c",
   "metadata": {},
   "outputs": [],
   "source": []
  }
 ],
 "metadata": {
  "kernelspec": {
   "display_name": "Python 3 (ipykernel)",
   "language": "python",
   "name": "python3"
  },
  "language_info": {
   "codemirror_mode": {
    "name": "ipython",
    "version": 3
   },
   "file_extension": ".py",
   "mimetype": "text/x-python",
   "name": "python",
   "nbconvert_exporter": "python",
   "pygments_lexer": "ipython3",
   "version": "3.11.5"
  }
 },
 "nbformat": 4,
 "nbformat_minor": 5
}
