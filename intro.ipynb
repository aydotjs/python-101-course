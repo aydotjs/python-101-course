{
 "cells": [
  {
   "cell_type": "markdown",
   "id": "1c9b5169-6509-4da0-b083-1f020bcc9677",
   "metadata": {},
   "source": [
    "# Introduction to data types"
   ]
  },
  {
   "cell_type": "code",
   "execution_count": 7,
   "id": "fcaa9f43-0084-4339-ad26-dc2fcd4866f6",
   "metadata": {},
   "outputs": [
    {
     "name": "stdout",
     "output_type": "stream",
     "text": [
      "1200\n"
     ]
    }
   ],
   "source": [
    "def get_area():\n",
    "    L = 30\n",
    "    H = 40\n",
    "    Area = L * H\n",
    "    print(Area)\n",
    "\n",
    "get_area()"
   ]
  },
  {
   "cell_type": "code",
   "execution_count": 1,
   "id": "46ada4f2-d650-4fb4-acd0-4bb9673b032d",
   "metadata": {},
   "outputs": [
    {
     "name": "stdout",
     "output_type": "stream",
     "text": [
      "5\n"
     ]
    }
   ],
   "source": [
    "floating_int = round(5.333)\n",
    "print(floating_int)"
   ]
  },
  {
   "cell_type": "code",
   "execution_count": 2,
   "id": "9eca597e-d552-486e-ba57-f63c8546d398",
   "metadata": {},
   "outputs": [],
   "source": [
    "def celsius_to_fahrenheit(temperature_in_celsius):\n",
    "    return\n",
    "    "
   ]
  },
  {
   "cell_type": "code",
   "execution_count": 5,
   "id": "796ab3d1-8ba9-48e8-bc95-5ebc40e0939d",
   "metadata": {},
   "outputs": [],
   "source": [
    "def calculate_average(first_num, second_num, third_num):\n",
    "    average = (first_num, second_num, third_num)/2\n",
    "    return average\n",
    "\n",
    "def prompt_user():\n",
    "    first_num = float(input(\"Enter the first number\"))\n",
    "    second_num = float(iput(\"Enter the second number\"))\n",
    "    third_num = float(input(\"Enter the third number\"))\n",
    "\n",
    "    \n",
    "    \n",
    "\n",
    "    \n",
    "    \n"
   ]
  },
  {
   "cell_type": "code",
   "execution_count": 14,
   "id": "93231aa1-6fa4-4b86-a314-d1ba1540db8f",
   "metadata": {},
   "outputs": [
    {
     "name": "stdout",
     "output_type": "stream",
     "text": [
      "8\n"
     ]
    }
   ],
   "source": [
    "def sum_number(number1, number2):\n",
    "    sum = number1 + number2\n",
    "    print(sum)\n",
    "sum_number(3, 5)\n"
   ]
  },
  {
   "cell_type": "markdown",
   "id": "d518228f-35ea-4111-9f29-29ad3a482ea9",
   "metadata": {},
   "source": [
    "## Data Type Check\n",
    "Write a program that checks the data type of a given variable. Define a function check_data_type that \r\n",
    "takes a variable as a parameter and prints its data type. The program should then prompt the user to \r\n",
    "enter a variable and call the function to check its data type"
   ]
  },
  {
   "cell_type": "code",
   "execution_count": 14,
   "id": "0b4f1b51-373d-42a4-933b-295c6ee5b4a7",
   "metadata": {},
   "outputs": [
    {
     "name": "stdin",
     "output_type": "stream",
     "text": [
      "Enter a Varaible 199\n"
     ]
    },
    {
     "name": "stdout",
     "output_type": "stream",
     "text": [
      "<class 'int'>\n"
     ]
    }
   ],
   "source": [
    "prompt_user = eval(input(\"Enter a Varaible\"))\n",
    "def check_data_type(variable):\n",
    "   # print(type(variable))` this back tick here is causing this code not to be executed\n",
    "    data_type = type(prompt_user)\n",
    "    print(data_type)\n",
    "#prompt_user = input(\"Enter a variable\")\n",
    "\n",
    "check_data_type(prompt_user)"
   ]
  },
  {
   "cell_type": "markdown",
   "id": "6833da02-f0e1-456b-ad04-9ff6296d2cec",
   "metadata": {},
   "source": [
    "## Circle Area\n",
    "Create a program that calculates the area of a circle. Define a function calculate_circle_area that takes the radius as a parameter and returns the area using the formula area = pi * radius^2. You can use the value of pi as 3.14.\n"
   ]
  },
  {
   "cell_type": "code",
   "execution_count": 3,
   "id": "9b28b9cd-b23d-4ac6-81f5-7828820bbee2",
   "metadata": {},
   "outputs": [
    {
     "data": {
      "text/plain": [
       "78.5"
      ]
     },
     "execution_count": 3,
     "metadata": {},
     "output_type": "execute_result"
    }
   ],
   "source": [
    "def calculate_circle_area(radius):\n",
    "    pi = 3.14\n",
    "    area = pi * radius**2\n",
    "    return area\n",
    "    print(area)\n",
    "    \n",
    "calculate_circle_area(5)"
   ]
  },
  {
   "cell_type": "code",
   "execution_count": 1,
   "id": "529338fb-e6ea-4d35-87ba-aa883920df85",
   "metadata": {},
   "outputs": [
    {
     "name": "stdout",
     "output_type": "stream",
     "text": [
      "correction\n"
     ]
    }
   ],
   "source": [
    "print(\"correction\")"
   ]
  },
  {
   "cell_type": "code",
   "execution_count": null,
   "id": "f056c69b-8312-434b-b8cf-96e3de89e649",
   "metadata": {},
   "outputs": [],
   "source": []
  }
 ],
 "metadata": {
  "kernelspec": {
   "display_name": "Python 3 (ipykernel)",
   "language": "python",
   "name": "python3"
  },
  "language_info": {
   "codemirror_mode": {
    "name": "ipython",
    "version": 3
   },
   "file_extension": ".py",
   "mimetype": "text/x-python",
   "name": "python",
   "nbconvert_exporter": "python",
   "pygments_lexer": "ipython3",
   "version": "3.11.5"
  }
 },
 "nbformat": 4,
 "nbformat_minor": 5
}
