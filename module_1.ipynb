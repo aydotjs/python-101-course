{
 "cells": [
  {
   "cell_type": "code",
   "execution_count": 3,
   "id": "61e21729-b1ea-4d2a-a20e-a2301414e914",
   "metadata": {},
   "outputs": [
    {
     "name": "stdout",
     "output_type": "stream",
     "text": [
      "the sum of 5 and 6 is 11\n"
     ]
    }
   ],
   "source": [
    "def sum_numbers(a,b):\n",
    "    print(f\"the sum of {a} and {b} is {a + b}\")\n",
    "sum_numbers(5,6)"
   ]
  },
  {
   "cell_type": "code",
   "execution_count": null,
   "id": "4bcba340-bed8-4e7b-b0e4-2869aa712b92",
   "metadata": {},
   "outputs": [],
   "source": []
  }
 ],
 "metadata": {
  "kernelspec": {
   "display_name": "Python 3 (ipykernel)",
   "language": "python",
   "name": "python3"
  },
  "language_info": {
   "codemirror_mode": {
    "name": "ipython",
    "version": 3
   },
   "file_extension": ".py",
   "mimetype": "text/x-python",
   "name": "python",
   "nbconvert_exporter": "python",
   "pygments_lexer": "ipython3",
   "version": "3.11.5"
  }
 },
 "nbformat": 4,
 "nbformat_minor": 5
}
